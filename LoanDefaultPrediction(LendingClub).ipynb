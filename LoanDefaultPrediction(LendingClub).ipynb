{
 "cells": [
  {
   "cell_type": "markdown",
   "metadata": {},
   "source": [
    "# Code for the Project"
   ]
  },
  {
   "cell_type": "markdown",
   "metadata": {},
   "source": [
    "## Importing and data cleaning"
   ]
  },
  {
   "cell_type": "code",
   "execution_count": 84,
   "metadata": {},
   "outputs": [
    {
     "data": {
      "text/plain": [
       "(2260701, 17)"
      ]
     },
     "execution_count": 84,
     "metadata": {},
     "output_type": "execute_result"
    }
   ],
   "source": [
    "import pandas as pd\n",
    "columns = [\"annual_inc\", \"delinq_2yrs\", \"dti\", \"emp_length\",\n",
    "           \"grade\", \"home_ownership\", \"installment\", \"int_rate\", \n",
    "           \"loan_amnt\", \"loan_status\", \"num_accts_ever_120_pd\", \n",
    "           \"purpose\", \"term\", \"total_acc\", \"total_pymnt\", \n",
    "           \"last_fico_range_high\", \"last_fico_range_low\"]\n",
    "\n",
    "data = pd.read_csv(\"accepted_2007_to_2018Q4.csv\", usecols=columns)\n",
    "data.shape"
   ]
  },
  {
   "cell_type": "code",
   "execution_count": 3,
   "metadata": {},
   "outputs": [
    {
     "name": "stdout",
     "output_type": "stream",
     "text": [
      "loan_status\n",
      "Fully Paid                                             1076751\n",
      "Current                                                 878317\n",
      "Charged Off                                             268559\n",
      "Late (31-120 days)                                       21467\n",
      "In Grace Period                                           8436\n",
      "Late (16-30 days)                                         4349\n",
      "Does not meet the credit policy. Status:Fully Paid        1988\n",
      "Does not meet the credit policy. Status:Charged Off        761\n",
      "Default                                                     40\n",
      "dtype: int64 \n",
      "\n",
      "loan_status\n",
      "0.0    1078739\n",
      "1.0     295176\n",
      "dtype: int64\n"
     ]
    }
   ],
   "source": [
    "print(data.value_counts(\"loan_status\"), \"\\n\")\n",
    "non_default = [\"Fully Paid\", \"Does not meet the credit policy. Status:Fully Paid\"]\n",
    "default = [\"Late (31-120 days)\", \"Late (16-30 days)\", \"Default\",\n",
    "           \"Charged Off\", \"Does not meet the credit policy. Status:Charged Off\"]\n",
    "\n",
    "data = data[~data.loan_status.isin([\"Current\", \"In Grace Period\"])]\n",
    "data[\"loan_status\"].replace(non_default, 0, inplace=True)\n",
    "data[\"loan_status\"].replace(default, 1, inplace=True)\n",
    "print(data.value_counts(\"loan_status\"))"
   ]
  },
  {
   "cell_type": "code",
   "execution_count": 4,
   "metadata": {},
   "outputs": [
    {
     "data": {
      "text/html": [
       "<div>\n",
       "<style scoped>\n",
       "    .dataframe tbody tr th:only-of-type {\n",
       "        vertical-align: middle;\n",
       "    }\n",
       "\n",
       "    .dataframe tbody tr th {\n",
       "        vertical-align: top;\n",
       "    }\n",
       "\n",
       "    .dataframe thead th {\n",
       "        text-align: right;\n",
       "    }\n",
       "</style>\n",
       "<table border=\"1\" class=\"dataframe\">\n",
       "  <thead>\n",
       "    <tr style=\"text-align: right;\">\n",
       "      <th></th>\n",
       "      <th>loan_amnt</th>\n",
       "      <th>term</th>\n",
       "      <th>int_rate</th>\n",
       "      <th>installment</th>\n",
       "      <th>grade</th>\n",
       "      <th>emp_length</th>\n",
       "      <th>home_ownership</th>\n",
       "      <th>annual_inc</th>\n",
       "      <th>loan_status</th>\n",
       "      <th>purpose</th>\n",
       "      <th>dti</th>\n",
       "      <th>delinq_2yrs</th>\n",
       "      <th>total_acc</th>\n",
       "      <th>total_pymnt</th>\n",
       "      <th>last_fico_range_high</th>\n",
       "      <th>last_fico_range_low</th>\n",
       "      <th>num_accts_ever_120_pd</th>\n",
       "    </tr>\n",
       "  </thead>\n",
       "  <tbody>\n",
       "    <tr>\n",
       "      <th>0</th>\n",
       "      <td>3600.0</td>\n",
       "      <td>36.0</td>\n",
       "      <td>13.99</td>\n",
       "      <td>123.03</td>\n",
       "      <td>C</td>\n",
       "      <td>11.0</td>\n",
       "      <td>MORTGAGE</td>\n",
       "      <td>55000.0</td>\n",
       "      <td>0.0</td>\n",
       "      <td>debt_consolidation</td>\n",
       "      <td>5.91</td>\n",
       "      <td>0.0</td>\n",
       "      <td>13.0</td>\n",
       "      <td>4421.723917</td>\n",
       "      <td>564.0</td>\n",
       "      <td>560.0</td>\n",
       "      <td>2.0</td>\n",
       "    </tr>\n",
       "    <tr>\n",
       "      <th>1</th>\n",
       "      <td>24700.0</td>\n",
       "      <td>36.0</td>\n",
       "      <td>11.99</td>\n",
       "      <td>820.28</td>\n",
       "      <td>C</td>\n",
       "      <td>11.0</td>\n",
       "      <td>MORTGAGE</td>\n",
       "      <td>65000.0</td>\n",
       "      <td>0.0</td>\n",
       "      <td>small_business</td>\n",
       "      <td>16.06</td>\n",
       "      <td>1.0</td>\n",
       "      <td>38.0</td>\n",
       "      <td>25679.660000</td>\n",
       "      <td>699.0</td>\n",
       "      <td>695.0</td>\n",
       "      <td>0.0</td>\n",
       "    </tr>\n",
       "    <tr>\n",
       "      <th>2</th>\n",
       "      <td>20000.0</td>\n",
       "      <td>60.0</td>\n",
       "      <td>10.78</td>\n",
       "      <td>432.66</td>\n",
       "      <td>B</td>\n",
       "      <td>11.0</td>\n",
       "      <td>MORTGAGE</td>\n",
       "      <td>63000.0</td>\n",
       "      <td>0.0</td>\n",
       "      <td>home_improvement</td>\n",
       "      <td>10.78</td>\n",
       "      <td>0.0</td>\n",
       "      <td>18.0</td>\n",
       "      <td>22705.924294</td>\n",
       "      <td>704.0</td>\n",
       "      <td>700.0</td>\n",
       "      <td>0.0</td>\n",
       "    </tr>\n",
       "    <tr>\n",
       "      <th>4</th>\n",
       "      <td>10400.0</td>\n",
       "      <td>60.0</td>\n",
       "      <td>22.45</td>\n",
       "      <td>289.91</td>\n",
       "      <td>F</td>\n",
       "      <td>3.0</td>\n",
       "      <td>MORTGAGE</td>\n",
       "      <td>104433.0</td>\n",
       "      <td>0.0</td>\n",
       "      <td>major_purchase</td>\n",
       "      <td>25.37</td>\n",
       "      <td>1.0</td>\n",
       "      <td>35.0</td>\n",
       "      <td>11740.500000</td>\n",
       "      <td>704.0</td>\n",
       "      <td>700.0</td>\n",
       "      <td>0.0</td>\n",
       "    </tr>\n",
       "    <tr>\n",
       "      <th>5</th>\n",
       "      <td>11950.0</td>\n",
       "      <td>36.0</td>\n",
       "      <td>13.44</td>\n",
       "      <td>405.18</td>\n",
       "      <td>C</td>\n",
       "      <td>4.0</td>\n",
       "      <td>RENT</td>\n",
       "      <td>34000.0</td>\n",
       "      <td>0.0</td>\n",
       "      <td>debt_consolidation</td>\n",
       "      <td>10.20</td>\n",
       "      <td>0.0</td>\n",
       "      <td>6.0</td>\n",
       "      <td>13708.948530</td>\n",
       "      <td>759.0</td>\n",
       "      <td>755.0</td>\n",
       "      <td>0.0</td>\n",
       "    </tr>\n",
       "  </tbody>\n",
       "</table>\n",
       "</div>"
      ],
      "text/plain": [
       "   loan_amnt  term  int_rate  installment grade  emp_length home_ownership  \\\n",
       "0     3600.0  36.0     13.99       123.03     C        11.0       MORTGAGE   \n",
       "1    24700.0  36.0     11.99       820.28     C        11.0       MORTGAGE   \n",
       "2    20000.0  60.0     10.78       432.66     B        11.0       MORTGAGE   \n",
       "4    10400.0  60.0     22.45       289.91     F         3.0       MORTGAGE   \n",
       "5    11950.0  36.0     13.44       405.18     C         4.0           RENT   \n",
       "\n",
       "   annual_inc loan_status             purpose    dti  delinq_2yrs  total_acc  \\\n",
       "0     55000.0         0.0  debt_consolidation   5.91          0.0       13.0   \n",
       "1     65000.0         0.0      small_business  16.06          1.0       38.0   \n",
       "2     63000.0         0.0    home_improvement  10.78          0.0       18.0   \n",
       "4    104433.0         0.0      major_purchase  25.37          1.0       35.0   \n",
       "5     34000.0         0.0  debt_consolidation  10.20          0.0        6.0   \n",
       "\n",
       "    total_pymnt  last_fico_range_high  last_fico_range_low  \\\n",
       "0   4421.723917                 564.0                560.0   \n",
       "1  25679.660000                 699.0                695.0   \n",
       "2  22705.924294                 704.0                700.0   \n",
       "4  11740.500000                 704.0                700.0   \n",
       "5  13708.948530                 759.0                755.0   \n",
       "\n",
       "   num_accts_ever_120_pd  \n",
       "0                    2.0  \n",
       "1                    0.0  \n",
       "2                    0.0  \n",
       "4                    0.0  \n",
       "5                    0.0  "
      ]
     },
     "execution_count": 4,
     "metadata": {},
     "output_type": "execute_result"
    }
   ],
   "source": [
    "data['term'] = data['term'].str.split(' ').str.get(1)\n",
    "data['term'] = data['term'].astype('float')\n",
    "data['int_rate'] = pd.to_numeric(data['int_rate'])\n",
    "data['loan_status']=data['loan_status'].astype('category')\n",
    "data['emp_length'] = data['emp_length'].replace({'< 1 year': '0 years', '10+ years': '11 years'})\n",
    "data['emp_length'] = data['emp_length'].str.extract('(\\d+)').astype('float')\n",
    "data['emp_length']\n",
    "data.head()"
   ]
  },
  {
   "cell_type": "code",
   "execution_count": 5,
   "metadata": {},
   "outputs": [
    {
     "name": "stdout",
     "output_type": "stream",
     "text": [
      "(1373948, 17)\n",
      "loan_amnt                   33\n",
      "term                        33\n",
      "int_rate                    33\n",
      "installment                 33\n",
      "grade                       33\n",
      "emp_length               80883\n",
      "home_ownership              33\n",
      "annual_inc                  37\n",
      "loan_status                 33\n",
      "purpose                     33\n",
      "dti                        436\n",
      "delinq_2yrs                 62\n",
      "total_acc                   62\n",
      "total_pymnt                 33\n",
      "last_fico_range_high        33\n",
      "last_fico_range_low         33\n",
      "num_accts_ever_120_pd    70309\n",
      "dtype: int64\n"
     ]
    },
    {
     "data": {
      "text/plain": [
       "(1224832, 17)"
      ]
     },
     "execution_count": 5,
     "metadata": {},
     "output_type": "execute_result"
    }
   ],
   "source": [
    "print(data.shape)\n",
    "print(data.isna().sum())\n",
    "data2 = data.dropna()\n",
    "data2.shape"
   ]
  },
  {
   "cell_type": "code",
   "execution_count": 6,
   "metadata": {},
   "outputs": [
    {
     "name": "stderr",
     "output_type": "stream",
     "text": [
      "<ipython-input-6-33c25b35de42>:1: SettingWithCopyWarning: \n",
      "A value is trying to be set on a copy of a slice from a DataFrame.\n",
      "Try using .loc[row_indexer,col_indexer] = value instead\n",
      "\n",
      "See the caveats in the documentation: https://pandas.pydata.org/pandas-docs/stable/user_guide/indexing.html#returning-a-view-versus-a-copy\n",
      "  data2[\"fico_range_avg\"] = (data2[\"last_fico_range_high\"]+data2[\"last_fico_range_low\"]) / 2\n"
     ]
    },
    {
     "data": {
      "text/plain": [
       "(1224832, 16)"
      ]
     },
     "execution_count": 6,
     "metadata": {},
     "output_type": "execute_result"
    }
   ],
   "source": [
    "data2[\"fico_range_avg\"] = (data2[\"last_fico_range_high\"]+data2[\"last_fico_range_low\"]) / 2\n",
    "data2 = data2.drop([\"last_fico_range_high\", \"last_fico_range_low\"],axis=1)\n",
    "data2.shape"
   ]
  },
  {
   "cell_type": "code",
   "execution_count": 89,
   "metadata": {},
   "outputs": [
    {
     "data": {
      "image/png": "[encoded data removed]",
      "text/plain": [
       "<Figure size 432x288 with 2 Axes>"
      ]
     },
     "metadata": {
      "needs_background": "light"
     },
     "output_type": "display_data"
    }
   ],
   "source": [
    "# Correlation Table\n",
    "quant_columns = [\"annual_inc\", \"delinq_2yrs\", \"dti\", \"emp_length\", \n",
    "                 \"fico_range_avg\", \"int_rate\", \"loan_amnt\", \"term\",\n",
    "                 \"num_accts_ever_120_pd\", \"total_acc\"]\n",
    "import matplotlib.pyplot as plt\n",
    "import seaborn as sns\n",
    "sns.heatmap(data2[quant_columns].corr(), cmap='RdYlGn')\n",
    "plt.title('Correlation Matrix')\n",
    "plt.show()\n",
    "# plt.savefig(\"Correlation_matrix.pdf\",)"
   ]
  },
  {
   "cell_type": "code",
   "execution_count": 48,
   "metadata": {},
   "outputs": [],
   "source": [
    "categorical = [\"grade\", \"home_ownership\", \"purpose\"]\n",
    "data3 = pd.get_dummies(\n",
    "    data2, columns=categorical, prefix=\"\", prefix_sep=\"\", drop_first=True)"
   ]
  },
  {
   "cell_type": "markdown",
   "metadata": {},
   "source": [
    "## Creating train-test split (balanced)"
   ]
  },
  {
   "cell_type": "code",
   "execution_count": 9,
   "metadata": {},
   "outputs": [],
   "source": [
    "# default_rows = data3[data3[\"loan_status\"] == 1]\n",
    "# non_default_rows = data3[data3[\"loan_status\"] == 0]\n",
    "# print(\"Total non-default:\", non_default_rows.shape)\n",
    "# print(\"Total default:\", default_rows.shape)\n",
    "# train_size = int(default_rows.shape[0] * 0.8)\n",
    "# non_default_train = non_default_rows.sample(n=train_size, random_state=123)\n",
    "# default_train = default_rows.sample(n=train_size, random_state=234)\n",
    "# print(\"Non-default vs default train:\", non_default_train.shape[0], default_train.shape[0])\n",
    "# non_default_test = non_default_rows[~non_default_rows.index.isin(non_default_train.index)]\n",
    "# default_test = default_rows[~default_rows.index.isin(default_train.index)]\n",
    "# print(\"Non-default vs default test:\", non_default_test.shape[0], default_test.shape[0])\n",
    "\n",
    "# merged_train = pd.concat([non_default_train, default_train], axis=0)\n",
    "# print(\"Full train:\", merged_train.shape[0])\n",
    "# merged_test = pd.concat([non_default_test, default_test], axis=0)\n",
    "# print(\"Full test:\", merged_test.shape[0])"
   ]
  },
  {
   "cell_type": "code",
   "execution_count": 10,
   "metadata": {},
   "outputs": [],
   "source": [
    "# # Scaling variables\n",
    "# from sklearn.preprocessing import StandardScaler\n",
    "# scaler = StandardScaler()\n",
    "# scaler.fit(merged_train[quant_columns])\n",
    "# merged_train[quant_columns] = scaler.transform(merged_train[quant_columns])\n",
    "# merged_test[quant_columns] = scaler.transform(merged_test[quant_columns])"
   ]
  },
  {
   "cell_type": "code",
   "execution_count": 11,
   "metadata": {},
   "outputs": [],
   "source": [
    "# y_train = merged_train[\"loan_status\"]\n",
    "# X_train = merged_train.loc[:, ~merged_train.columns.isin([\"loan_status\", \"total_pymnt\", \"installment\"])]\n",
    "# print(\"Train data:\", y_train.shape, X_train.shape)\n",
    "# y_test = merged_test[\"loan_status\"]\n",
    "# X_test = merged_test.loc[:, ~merged_test.columns.isin([\"loan_status\", \"total_pymnt\", \"installment\"])]\n",
    "# print(\"Test data:\", y_test.shape, X_test.shape, merged_train.shape)"
   ]
  },
  {
   "cell_type": "code",
   "execution_count": 12,
   "metadata": {},
   "outputs": [],
   "source": [
    "# XGB Classifier Tuning\n",
    "import xgboost as xgb\n",
    "from sklearn.metrics import classification_report\n",
    "from sklearn.metrics import plot_confusion_matrix\n",
    "# from sklearn.model_selection import RandomizedSearchCV\n",
    "\n",
    "# xgb_cl = xgb.XGBClassifier(random_state=456, n_jobs=-1)\n",
    "# params_xgb_cl ={'n_estimators': [100, 200, 300, 400, 500, 1000, 1500, 2000],\n",
    "#                 'max_depth': [1, 3, 5, 7, 9],\n",
    "#                 'learning_rate': [0.01, 0.05, 0.1, 0.15],\n",
    "#                 'colsample_bytree': [0.1, 0.5, 0.7, 1],\n",
    "#                 'subsample': [0.1, 0.3, 0.5, 0.7, 0.9, 1],\n",
    "#                 'alpha': [0, 0.01, 0.05, 0.1],\n",
    "#                 'lambda': [0.05, 1, 1.5]}\n",
    "# grid_xgb_cl = RandomizedSearchCV(estimator=xgb_cl, param_distributions=params_xgb_cl, cv=3,\n",
    "#                                  scoring='recall', verbose=1, n_jobs=-1, n_iter=100)\n",
    "# grid_xgb_cl.fit(X_train_cl, y_train_cl)\n",
    "# best_hyperparams = grid_xgb_cl.best_params_\n",
    "# print('Best Classification HyperParams:\\n', best_hyperparams)"
   ]
  },
  {
   "cell_type": "code",
   "execution_count": 13,
   "metadata": {},
   "outputs": [],
   "source": [
    "# xgb_cl = xgb.XGBClassifier(subsample=0.7, n_estimators=200, max_depth=7,\n",
    "#                            learning_rate=0.01, reg_lambda=1.5, colsample_bytree=0.7, \n",
    "#                            alpha=0.01, random_state=50, scale_pos_weight=0.8)\n",
    "# xgb_cl.fit(X_train, y_train)"
   ]
  },
  {
   "cell_type": "code",
   "execution_count": 14,
   "metadata": {},
   "outputs": [],
   "source": [
    "# y_train_pred = xgb_cl.predict(X_train)\n",
    "# print(classification_report(y_train, y_train_pred))\n",
    "# y_test_pred = xgb_cl.predict(X_test)\n",
    "# print(classification_report(y_test, y_test_pred))\n",
    "# disp = plot_confusion_matrix(xgb_cl, X_test, y_test,\n",
    "#                              display_labels=[0, 1],\n",
    "#                              cmap=plt.cm.Blues,\n",
    "#                              normalize=\"true\")\n",
    "# disp.ax_.set_title(\"Confusion Matrix\")\n",
    "# plt.show()"
   ]
  },
  {
   "cell_type": "markdown",
   "metadata": {},
   "source": [
    "## Creating train-test split (unbalanced)"
   ]
  },
  {
   "cell_type": "code",
   "execution_count": 49,
   "metadata": {},
   "outputs": [
    {
     "name": "stdout",
     "output_type": "stream",
     "text": [
      "(1224832,) (1224832, 34) (1224832, 37)\n"
     ]
    },
    {
     "data": {
      "text/plain": [
       "Index(['loan_amnt', 'term', 'int_rate', 'emp_length', 'annual_inc', 'dti',\n",
       "       'delinq_2yrs', 'total_acc', 'num_accts_ever_120_pd', 'fico_range_avg',\n",
       "       'B', 'C', 'D', 'E', 'F', 'G', 'MORTGAGE', 'NONE', 'OTHER', 'OWN',\n",
       "       'RENT', 'credit_card', 'debt_consolidation', 'educational',\n",
       "       'home_improvement', 'house', 'major_purchase', 'medical', 'moving',\n",
       "       'other', 'renewable_energy', 'small_business', 'vacation', 'wedding'],\n",
       "      dtype='object')"
      ]
     },
     "execution_count": 49,
     "metadata": {},
     "output_type": "execute_result"
    }
   ],
   "source": [
    "y_full = data3[\"loan_status\"]\n",
    "X_full = data3.loc[:, ~data3.columns.isin([\"loan_status\", \"total_pymnt\", \"installment\"])]\n",
    "print(y_full.shape, X_full.shape, data3.shape)\n",
    "X_full.columns"
   ]
  },
  {
   "cell_type": "code",
   "execution_count": 50,
   "metadata": {},
   "outputs": [
    {
     "name": "stdout",
     "output_type": "stream",
     "text": [
      "(979865, 34) (979865,)\n",
      "(244967, 34) (244967,)\n"
     ]
    }
   ],
   "source": [
    "from sklearn.model_selection import train_test_split\n",
    "X_train1, X_test1, y_train1, y_test1 = train_test_split(\n",
    "    X_full, y_full, test_size=0.20, random_state=123, stratify=y_full)\n",
    "print(X_train1.shape, y_train1.shape)\n",
    "print(X_test1.shape, y_test1.shape)"
   ]
  },
  {
   "cell_type": "code",
   "execution_count": 68,
   "metadata": {},
   "outputs": [
    {
     "name": "stdout",
     "output_type": "stream",
     "text": [
      "X_train after PCA (979865, 10)\n",
      "X_test after PCA (244967, 10)\n"
     ]
    },
    {
     "data": {
      "text/plain": [
       "0.9999999996753346"
      ]
     },
     "execution_count": 68,
     "metadata": {},
     "output_type": "execute_result"
    }
   ],
   "source": [
    "# PCA\n",
    "from sklearn.decomposition import PCA\n",
    "pca = PCA(n_components=10, svd_solver='full', random_state=11)\n",
    "pca.fit(X_train1)\n",
    "X_train_new = pca.transform(X_train1)\n",
    "print(\"X_train after PCA\", X_train_new.shape)\n",
    "X_test_new = pca.transform(X_test1)\n",
    "print(\"X_test after PCA\", X_test_new.shape)\n",
    "sum(pca.explained_variance_ratio_)"
   ]
  },
  {
   "cell_type": "code",
   "execution_count": 52,
   "metadata": {},
   "outputs": [
    {
     "data": {
      "text/plain": [
       "XGBClassifier(alpha=0.01, base_score=0.5, booster='gbtree', colsample_bylevel=1,\n",
       "              colsample_bynode=1, colsample_bytree=0.7, gamma=0, gpu_id=-1,\n",
       "              importance_type='gain', interaction_constraints='',\n",
       "              learning_rate=0.01, max_delta_step=0, max_depth=9,\n",
       "              min_child_weight=1, missing=nan, monotone_constraints='()',\n",
       "              n_estimators=500, n_jobs=0, num_parallel_tree=1, random_state=123,\n",
       "              reg_alpha=0.00999999978, reg_lambda=1.5, scale_pos_weight=3.65,\n",
       "              subsample=0.7, tree_method='exact', validate_parameters=1,\n",
       "              verbosity=None)"
      ]
     },
     "execution_count": 52,
     "metadata": {},
     "output_type": "execute_result"
    }
   ],
   "source": [
    "xgb_cl_1 = xgb.XGBClassifier(subsample=0.7, n_estimators=500, max_depth=9,\n",
    "                             learning_rate=0.01, reg_lambda=1.5, colsample_bytree=0.7, \n",
    "                             alpha=0.01, random_state=123, scale_pos_weight=3.65)\n",
    "xgb_cl_1.fit(X_train_new, y_train1)"
   ]
  },
  {
   "cell_type": "code",
   "execution_count": 53,
   "metadata": {},
   "outputs": [
    {
     "name": "stdout",
     "output_type": "stream",
     "text": [
      "              precision    recall  f1-score   support\n",
      "\n",
      "         0.0       0.97      0.88      0.92    770990\n",
      "         1.0       0.67      0.91      0.77    208875\n",
      "\n",
      "    accuracy                           0.89    979865\n",
      "   macro avg       0.82      0.90      0.85    979865\n",
      "weighted avg       0.91      0.89      0.89    979865\n",
      "\n",
      "              precision    recall  f1-score   support\n",
      "\n",
      "         0.0       0.97      0.88      0.92    192748\n",
      "         1.0       0.67      0.91      0.77     52219\n",
      "\n",
      "    accuracy                           0.88    244967\n",
      "   macro avg       0.82      0.89      0.85    244967\n",
      "weighted avg       0.91      0.88      0.89    244967\n",
      "\n"
     ]
    }
   ],
   "source": [
    "y_pred_train1 = xgb_cl_1.predict(X_train_new)\n",
    "print(classification_report(y_train1, y_pred_train1))\n",
    "y_pred_test1 = xgb_cl_1.predict(X_test_new)\n",
    "print(classification_report(y_test1, y_pred_test1))"
   ]
  },
  {
   "cell_type": "code",
   "execution_count": 54,
   "metadata": {},
   "outputs": [
    {
     "data": {
      "image/png": "[encoded data removed]",
      "text/plain": [
       "<Figure size 432x288 with 2 Axes>"
      ]
     },
     "metadata": {
      "needs_background": "light"
     },
     "output_type": "display_data"
    }
   ],
   "source": [
    "# proportional values\n",
    "disp = plot_confusion_matrix(xgb_cl_1, X_test_new, y_test1,\n",
    "                             display_labels=[0, 1],\n",
    "                             cmap=plt.cm.Blues,\n",
    "                             normalize=\"true\")\n",
    "disp.ax_.set_title(\"Confusion Matrix\")\n",
    "plt.show()"
   ]
  },
  {
   "cell_type": "code",
   "execution_count": 55,
   "metadata": {},
   "outputs": [
    {
     "data": {
      "image/png": "[encoded data removed]",
      "text/plain": [
       "<Figure size 432x288 with 2 Axes>"
      ]
     },
     "metadata": {
      "needs_background": "light"
     },
     "output_type": "display_data"
    }
   ],
   "source": [
    "# absolute values\n",
    "disp = plot_confusion_matrix(xgb_cl_1, X_test_new, y_test1,\n",
    "                             display_labels=[0, 1],\n",
    "                             cmap=plt.cm.Blues)\n",
    "disp.ax_.set_title(\"Confusion Matrix\")\n",
    "plt.show()"
   ]
  }
 ],
 "metadata": {
  "kernelspec": {
   "display_name": "Python 3",
   "language": "python",
   "name": "python3"
  },
  "language_info": {
   "codemirror_mode": {
    "name": "ipython",
    "version": 3
   },
   "file_extension": ".py",
   "mimetype": "text/x-python",
   "name": "python",
   "nbconvert_exporter": "python",
   "pygments_lexer": "ipython3",
   "version": "3.7.6"
  }
 },
 "nbformat": 4,
 "nbformat_minor": 4
}
